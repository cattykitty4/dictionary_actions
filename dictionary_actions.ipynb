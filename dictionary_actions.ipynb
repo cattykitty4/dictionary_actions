{
 "cells": [
  {
   "cell_type": "code",
   "execution_count": 2,
   "id": "48309a47",
   "metadata": {},
   "outputs": [],
   "source": [
    "# Here you can see how works all modules\n",
    "# For better visability let's import inspect library"
   ]
  },
  {
   "cell_type": "code",
   "execution_count": 4,
   "id": "272db47f",
   "metadata": {},
   "outputs": [],
   "source": [
    "import inspect"
   ]
  },
  {
   "cell_type": "code",
   "execution_count": 5,
   "id": "029d82a7",
   "metadata": {},
   "outputs": [],
   "source": [
    "# Clone project from GitHub"
   ]
  },
  {
   "cell_type": "code",
   "execution_count": 7,
   "id": "b8a51424",
   "metadata": {},
   "outputs": [
    {
     "name": "stdout",
     "output_type": "stream",
     "text": [
      "fatal: destination path 'dictionary_actions' already exists and is not an empty directory.\r\n"
     ]
    }
   ],
   "source": [
    "!git clone https://github.com/cattykitty4/dictionary_actions"
   ]
  },
  {
   "cell_type": "code",
   "execution_count": 9,
   "id": "511c33ef",
   "metadata": {},
   "outputs": [],
   "source": [
    "# Now import functions from each module and apply inspect library for function to see how it works"
   ]
  },
  {
   "cell_type": "code",
   "execution_count": 14,
   "id": "3043b0f2",
   "metadata": {
    "scrolled": false
   },
   "outputs": [
    {
     "name": "stdout",
     "output_type": "stream",
     "text": [
      "def listConverter(user: [list]) -> [dict]:\n",
      "    dct = {1: 'one', 4: 'four'}\n",
      "    return {element: dct.get(element, element) for element in user}\n",
      "\n",
      "{1: 'one', 2: 2, 4: 'four', 5: 5}\n"
     ]
    }
   ],
   "source": [
    "from dictionary_actions import *\n",
    "print(inspect.getsource(listConverter)) # applying method getsource to see the function\n",
    "\n",
    "print(listConverter([1, 2, 4, 5])) # call function listConverter"
   ]
  },
  {
   "cell_type": "code",
   "execution_count": 15,
   "id": "1b0d2d8b",
   "metadata": {},
   "outputs": [],
   "source": [
    "# After applying inspect method to fuction and calling it we can see that \n",
    "# This code is a simple converter from list into dictionary. \n",
    "# Every element from user's input convert into {key: value} pair \n",
    "# which key and value is the same elements."
   ]
  },
  {
   "cell_type": "code",
   "execution_count": null,
   "id": "8f84149e",
   "metadata": {},
   "outputs": [],
   "source": [
    "# Now let's see how is the next function works"
   ]
  },
  {
   "cell_type": "code",
   "execution_count": 24,
   "id": "1982a9f8",
   "metadata": {},
   "outputs": [
    {
     "name": "stdout",
     "output_type": "stream",
     "text": [
      "def combinator(nums: [list]) -> int:\n",
      "    counter = 0\n",
      "    container = []\n",
      "    dct = {}\n",
      "\n",
      "    for idx, el in enumerate(nums):\n",
      "        for i, number in enumerate(nums):\n",
      "            if nums[idx] != nums[i]:\n",
      "                multiplication = number * el\n",
      "                container.append(multiplication)\n",
      "\n",
      "    for key in container:\n",
      "        if key not in dct:\n",
      "            dct[key] = -1\n",
      "        else:\n",
      "            dct[key] += 1\n",
      "\n",
      "    for value in dct.values():\n",
      "        counter += value * (value - 1) * 4\n",
      "\n",
      "    return counter\n",
      "\n",
      "16\n"
     ]
    }
   ],
   "source": [
    "print(inspect.getsource(combinator)) # applying method getsource to see the function\n",
    "\n",
    "print(combinator([3, 8, 1, 3])) # call function combinator"
   ]
  },
  {
   "cell_type": "code",
   "execution_count": 25,
   "id": "00feeb05",
   "metadata": {},
   "outputs": [],
   "source": [
    "# This code counts the numbers of tuples of two numbers where their product would be equal to the same value\n",
    "# obtained during multiplication."
   ]
  },
  {
   "cell_type": "code",
   "execution_count": 26,
   "id": "300b43fd",
   "metadata": {},
   "outputs": [],
   "source": [
    "# How it works\n",
    "# First block of for cycle is iterating variable and checking the same indices.\n",
    "# If indices are equal, iteration is skipped, if not - two elements are multiplying and added into list\n",
    "\n",
    "# Second block of for cycle is iterating list ad if key not in dictionary, \n",
    "# the key added into dictionary with value -1\n",
    "# if key already in dictionary the value increase by +1\n",
    "\n",
    "# The third block of for cycle if iterating dictionary by its values and with \n",
    "# operator += calculating amount of tuples\n",
    "# with the same result of multiplications by combinatorics formula count * (count - 1) * 4"
   ]
  },
  {
   "cell_type": "code",
   "execution_count": 27,
   "id": "943cec96",
   "metadata": {},
   "outputs": [],
   "source": [
    "# The last fuction is not defined in overall attribute __all__. We should to import it by defenition name"
   ]
  },
  {
   "cell_type": "code",
   "execution_count": 47,
   "id": "50fcf661",
   "metadata": {},
   "outputs": [
    {
     "name": "stdout",
     "output_type": "stream",
     "text": [
      "def subsequenceCorrector(nums: [list]) -> [int]:\n",
      "    dct = {i: 0 for i in range(1, len(nums) + 1)}\n",
      "    for el in nums:\n",
      "        dct[el] += 1\n",
      "\n",
      "    lst = [key for key, value in dct.items() if value == 2]\n",
      "\n",
      "    lst.append([key for key, value in dct.items() if value == 0][0])\n",
      "\n",
      "    return lst\n",
      "\n",
      "[2, 3]\n"
     ]
    }
   ],
   "source": [
    "from dictionary_actions import subsequenceCorrector \n",
    "\n",
    "print(inspect.getsource(subsequenceCorrector)) # applying method getsource to see the function\n",
    "\n",
    "print(subsequenceCorrector([1, 2, 2, 4])) # call function subsequenceCorrector"
   ]
  },
  {
   "cell_type": "code",
   "execution_count": null,
   "id": "1b7dabb8",
   "metadata": {},
   "outputs": [],
   "source": [
    "# This code finds duplicate numbers and restores the order of the elements.\n",
    "# For example if variable has order [1, 2, 2, 4], output will be [_, 2, 3, _]"
   ]
  }
 ],
 "metadata": {
  "kernelspec": {
   "display_name": "Python 3 (ipykernel)",
   "language": "python",
   "name": "python3"
  },
  "language_info": {
   "codemirror_mode": {
    "name": "ipython",
    "version": 3
   },
   "file_extension": ".py",
   "mimetype": "text/x-python",
   "name": "python",
   "nbconvert_exporter": "python",
   "pygments_lexer": "ipython3",
   "version": "3.9.19"
  }
 },
 "nbformat": 4,
 "nbformat_minor": 5
}
